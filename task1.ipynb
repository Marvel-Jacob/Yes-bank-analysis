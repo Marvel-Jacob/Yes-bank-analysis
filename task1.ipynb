{
 "cells": [
  {
   "cell_type": "markdown",
   "metadata": {},
   "source": [
    "## Working on the Train data"
   ]
  },
  {
   "cell_type": "markdown",
   "metadata": {},
   "source": [
    "### 1. import the packages"
   ]
  },
  {
   "cell_type": "code",
   "execution_count": 1,
   "metadata": {},
   "outputs": [],
   "source": [
    "import pandas as pd\n",
    "import numpy as np\n",
    "from sklearn.preprocessing import OneHotEncoder,LabelEncoder\n",
    "from sklearn.model_selection import train_test_split\n",
    "from sklearn.ensemble import AdaBoostClassifier,RandomForestClassifier\n",
    "from sklearn.metrics import accuracy_score\n",
    "from sklearn.neighbors import KNeighborsClassifier\n",
    "from sklearn.tree import DecisionTreeClassifier\n",
    "from sklearn.naive_bayes import MultinomialNB, GaussianNB\n",
    "from sklearn.model_selection import cross_val_score, GridSearchCV\n",
    "from xgboost import XGBClassifier \n",
    "import multiprocessing"
   ]
  },
  {
   "cell_type": "markdown",
   "metadata": {},
   "source": [
    "### 2. Read the train data"
   ]
  },
  {
   "cell_type": "code",
   "execution_count": 2,
   "metadata": {},
   "outputs": [
    {
     "data": {
      "text/html": [
       "<div>\n",
       "<style scoped>\n",
       "    .dataframe tbody tr th:only-of-type {\n",
       "        vertical-align: middle;\n",
       "    }\n",
       "\n",
       "    .dataframe tbody tr th {\n",
       "        vertical-align: top;\n",
       "    }\n",
       "\n",
       "    .dataframe thead th {\n",
       "        text-align: right;\n",
       "    }\n",
       "</style>\n",
       "<table border=\"1\" class=\"dataframe\">\n",
       "  <thead>\n",
       "    <tr style=\"text-align: right;\">\n",
       "      <th></th>\n",
       "      <th>age_in_years</th>\n",
       "      <th>job_description</th>\n",
       "      <th>marital_status</th>\n",
       "      <th>education_details</th>\n",
       "      <th>has_default</th>\n",
       "      <th>balance_in_account</th>\n",
       "      <th>housing_status</th>\n",
       "      <th>previous_loan</th>\n",
       "      <th>phone_type</th>\n",
       "      <th>date</th>\n",
       "      <th>month_of_year</th>\n",
       "      <th>call_duration</th>\n",
       "      <th>campaign_contacts</th>\n",
       "      <th>days_passed</th>\n",
       "      <th>previous_contact</th>\n",
       "      <th>poutcome_of_campaign</th>\n",
       "      <th>outcome</th>\n",
       "    </tr>\n",
       "    <tr>\n",
       "      <th>serial_number</th>\n",
       "      <th></th>\n",
       "      <th></th>\n",
       "      <th></th>\n",
       "      <th></th>\n",
       "      <th></th>\n",
       "      <th></th>\n",
       "      <th></th>\n",
       "      <th></th>\n",
       "      <th></th>\n",
       "      <th></th>\n",
       "      <th></th>\n",
       "      <th></th>\n",
       "      <th></th>\n",
       "      <th></th>\n",
       "      <th></th>\n",
       "      <th></th>\n",
       "      <th></th>\n",
       "    </tr>\n",
       "  </thead>\n",
       "  <tbody>\n",
       "    <tr>\n",
       "      <th>1</th>\n",
       "      <td>58</td>\n",
       "      <td>management</td>\n",
       "      <td>married</td>\n",
       "      <td>tertiary</td>\n",
       "      <td>no</td>\n",
       "      <td>2143</td>\n",
       "      <td>yes</td>\n",
       "      <td>no</td>\n",
       "      <td>unknown</td>\n",
       "      <td>5</td>\n",
       "      <td>may</td>\n",
       "      <td>261</td>\n",
       "      <td>1</td>\n",
       "      <td>-1</td>\n",
       "      <td>0</td>\n",
       "      <td>unknown</td>\n",
       "      <td>no</td>\n",
       "    </tr>\n",
       "    <tr>\n",
       "      <th>2</th>\n",
       "      <td>44</td>\n",
       "      <td>technician</td>\n",
       "      <td>single</td>\n",
       "      <td>secondary</td>\n",
       "      <td>no</td>\n",
       "      <td>29</td>\n",
       "      <td>yes</td>\n",
       "      <td>no</td>\n",
       "      <td>unknown</td>\n",
       "      <td>5</td>\n",
       "      <td>may</td>\n",
       "      <td>151</td>\n",
       "      <td>1</td>\n",
       "      <td>-1</td>\n",
       "      <td>0</td>\n",
       "      <td>unknown</td>\n",
       "      <td>no</td>\n",
       "    </tr>\n",
       "    <tr>\n",
       "      <th>3</th>\n",
       "      <td>33</td>\n",
       "      <td>entrepreneur</td>\n",
       "      <td>married</td>\n",
       "      <td>secondary</td>\n",
       "      <td>no</td>\n",
       "      <td>2</td>\n",
       "      <td>yes</td>\n",
       "      <td>yes</td>\n",
       "      <td>unknown</td>\n",
       "      <td>5</td>\n",
       "      <td>may</td>\n",
       "      <td>76</td>\n",
       "      <td>1</td>\n",
       "      <td>-1</td>\n",
       "      <td>0</td>\n",
       "      <td>unknown</td>\n",
       "      <td>no</td>\n",
       "    </tr>\n",
       "    <tr>\n",
       "      <th>4</th>\n",
       "      <td>47</td>\n",
       "      <td>blue-collar</td>\n",
       "      <td>married</td>\n",
       "      <td>unknown</td>\n",
       "      <td>no</td>\n",
       "      <td>1506</td>\n",
       "      <td>yes</td>\n",
       "      <td>no</td>\n",
       "      <td>unknown</td>\n",
       "      <td>5</td>\n",
       "      <td>may</td>\n",
       "      <td>92</td>\n",
       "      <td>1</td>\n",
       "      <td>-1</td>\n",
       "      <td>0</td>\n",
       "      <td>unknown</td>\n",
       "      <td>no</td>\n",
       "    </tr>\n",
       "    <tr>\n",
       "      <th>5</th>\n",
       "      <td>33</td>\n",
       "      <td>unknown</td>\n",
       "      <td>single</td>\n",
       "      <td>unknown</td>\n",
       "      <td>no</td>\n",
       "      <td>1</td>\n",
       "      <td>no</td>\n",
       "      <td>no</td>\n",
       "      <td>unknown</td>\n",
       "      <td>5</td>\n",
       "      <td>may</td>\n",
       "      <td>198</td>\n",
       "      <td>1</td>\n",
       "      <td>-1</td>\n",
       "      <td>0</td>\n",
       "      <td>unknown</td>\n",
       "      <td>no</td>\n",
       "    </tr>\n",
       "  </tbody>\n",
       "</table>\n",
       "</div>"
      ],
      "text/plain": [
       "               age_in_years job_description marital_status education_details  \\\n",
       "serial_number                                                                  \n",
       "1                        58      management        married          tertiary   \n",
       "2                        44      technician         single         secondary   \n",
       "3                        33    entrepreneur        married         secondary   \n",
       "4                        47     blue-collar        married           unknown   \n",
       "5                        33         unknown         single           unknown   \n",
       "\n",
       "              has_default  balance_in_account housing_status previous_loan  \\\n",
       "serial_number                                                                \n",
       "1                      no                2143            yes            no   \n",
       "2                      no                  29            yes            no   \n",
       "3                      no                   2            yes           yes   \n",
       "4                      no                1506            yes            no   \n",
       "5                      no                   1             no            no   \n",
       "\n",
       "              phone_type  date month_of_year  call_duration  \\\n",
       "serial_number                                                 \n",
       "1                unknown     5           may            261   \n",
       "2                unknown     5           may            151   \n",
       "3                unknown     5           may             76   \n",
       "4                unknown     5           may             92   \n",
       "5                unknown     5           may            198   \n",
       "\n",
       "               campaign_contacts  days_passed  previous_contact  \\\n",
       "serial_number                                                     \n",
       "1                              1           -1                 0   \n",
       "2                              1           -1                 0   \n",
       "3                              1           -1                 0   \n",
       "4                              1           -1                 0   \n",
       "5                              1           -1                 0   \n",
       "\n",
       "              poutcome_of_campaign outcome  \n",
       "serial_number                               \n",
       "1                          unknown      no  \n",
       "2                          unknown      no  \n",
       "3                          unknown      no  \n",
       "4                          unknown      no  \n",
       "5                          unknown      no  "
      ]
     },
     "execution_count": 2,
     "metadata": {},
     "output_type": "execute_result"
    }
   ],
   "source": [
    "data=pd.read_csv('C:/Users/Administrator/Desktop/Datathon_2/Yes_Bank_Training.csv').set_index('serial_number')\n",
    "data.head()"
   ]
  },
  {
   "cell_type": "markdown",
   "metadata": {},
   "source": [
    "#### this extra missing parameter in the test data which is 'sep' in month of year has to be added to the train data. now the process continues.."
   ]
  },
  {
   "cell_type": "code",
   "execution_count": 6,
   "metadata": {},
   "outputs": [
    {
     "name": "stderr",
     "output_type": "stream",
     "text": [
      "C:\\Users\\Administrator\\Anaconda3\\lib\\site-packages\\pandas\\core\\frame.py:6211: FutureWarning: Sorting because non-concatenation axis is not aligned. A future version\n",
      "of pandas will change to not sort by default.\n",
      "\n",
      "To accept the future behavior, pass 'sort=False'.\n",
      "\n",
      "To retain the current behavior and silence the warning, pass 'sort=True'.\n",
      "\n",
      "  sort=sort)\n"
     ]
    }
   ],
   "source": [
    "# data=data.append(data_to_train,ignore_index=True) #run only once"
   ]
  },
  {
   "cell_type": "code",
   "execution_count": 3,
   "metadata": {},
   "outputs": [
    {
     "data": {
      "text/html": [
       "<div>\n",
       "<style scoped>\n",
       "    .dataframe tbody tr th:only-of-type {\n",
       "        vertical-align: middle;\n",
       "    }\n",
       "\n",
       "    .dataframe tbody tr th {\n",
       "        vertical-align: top;\n",
       "    }\n",
       "\n",
       "    .dataframe thead th {\n",
       "        text-align: right;\n",
       "    }\n",
       "</style>\n",
       "<table border=\"1\" class=\"dataframe\">\n",
       "  <thead>\n",
       "    <tr style=\"text-align: right;\">\n",
       "      <th></th>\n",
       "      <th>age_in_years</th>\n",
       "      <th>job_description</th>\n",
       "      <th>marital_status</th>\n",
       "      <th>education_details</th>\n",
       "      <th>has_default</th>\n",
       "      <th>balance_in_account</th>\n",
       "      <th>housing_status</th>\n",
       "      <th>previous_loan</th>\n",
       "      <th>phone_type</th>\n",
       "      <th>date</th>\n",
       "      <th>month_of_year</th>\n",
       "      <th>call_duration</th>\n",
       "      <th>campaign_contacts</th>\n",
       "      <th>days_passed</th>\n",
       "      <th>previous_contact</th>\n",
       "      <th>poutcome_of_campaign</th>\n",
       "      <th>outcome</th>\n",
       "    </tr>\n",
       "    <tr>\n",
       "      <th>serial_number</th>\n",
       "      <th></th>\n",
       "      <th></th>\n",
       "      <th></th>\n",
       "      <th></th>\n",
       "      <th></th>\n",
       "      <th></th>\n",
       "      <th></th>\n",
       "      <th></th>\n",
       "      <th></th>\n",
       "      <th></th>\n",
       "      <th></th>\n",
       "      <th></th>\n",
       "      <th></th>\n",
       "      <th></th>\n",
       "      <th></th>\n",
       "      <th></th>\n",
       "      <th></th>\n",
       "    </tr>\n",
       "  </thead>\n",
       "  <tbody>\n",
       "    <tr>\n",
       "      <th>1</th>\n",
       "      <td>58</td>\n",
       "      <td>management</td>\n",
       "      <td>married</td>\n",
       "      <td>tertiary</td>\n",
       "      <td>no</td>\n",
       "      <td>2143</td>\n",
       "      <td>yes</td>\n",
       "      <td>no</td>\n",
       "      <td>unknown</td>\n",
       "      <td>5</td>\n",
       "      <td>may</td>\n",
       "      <td>261</td>\n",
       "      <td>1</td>\n",
       "      <td>-1</td>\n",
       "      <td>0</td>\n",
       "      <td>unknown</td>\n",
       "      <td>no</td>\n",
       "    </tr>\n",
       "    <tr>\n",
       "      <th>2</th>\n",
       "      <td>44</td>\n",
       "      <td>technician</td>\n",
       "      <td>single</td>\n",
       "      <td>secondary</td>\n",
       "      <td>no</td>\n",
       "      <td>29</td>\n",
       "      <td>yes</td>\n",
       "      <td>no</td>\n",
       "      <td>unknown</td>\n",
       "      <td>5</td>\n",
       "      <td>may</td>\n",
       "      <td>151</td>\n",
       "      <td>1</td>\n",
       "      <td>-1</td>\n",
       "      <td>0</td>\n",
       "      <td>unknown</td>\n",
       "      <td>no</td>\n",
       "    </tr>\n",
       "    <tr>\n",
       "      <th>3</th>\n",
       "      <td>33</td>\n",
       "      <td>entrepreneur</td>\n",
       "      <td>married</td>\n",
       "      <td>secondary</td>\n",
       "      <td>no</td>\n",
       "      <td>2</td>\n",
       "      <td>yes</td>\n",
       "      <td>yes</td>\n",
       "      <td>unknown</td>\n",
       "      <td>5</td>\n",
       "      <td>may</td>\n",
       "      <td>76</td>\n",
       "      <td>1</td>\n",
       "      <td>-1</td>\n",
       "      <td>0</td>\n",
       "      <td>unknown</td>\n",
       "      <td>no</td>\n",
       "    </tr>\n",
       "    <tr>\n",
       "      <th>4</th>\n",
       "      <td>47</td>\n",
       "      <td>blue-collar</td>\n",
       "      <td>married</td>\n",
       "      <td>unknown</td>\n",
       "      <td>no</td>\n",
       "      <td>1506</td>\n",
       "      <td>yes</td>\n",
       "      <td>no</td>\n",
       "      <td>unknown</td>\n",
       "      <td>5</td>\n",
       "      <td>may</td>\n",
       "      <td>92</td>\n",
       "      <td>1</td>\n",
       "      <td>-1</td>\n",
       "      <td>0</td>\n",
       "      <td>unknown</td>\n",
       "      <td>no</td>\n",
       "    </tr>\n",
       "    <tr>\n",
       "      <th>5</th>\n",
       "      <td>33</td>\n",
       "      <td>unknown</td>\n",
       "      <td>single</td>\n",
       "      <td>unknown</td>\n",
       "      <td>no</td>\n",
       "      <td>1</td>\n",
       "      <td>no</td>\n",
       "      <td>no</td>\n",
       "      <td>unknown</td>\n",
       "      <td>5</td>\n",
       "      <td>may</td>\n",
       "      <td>198</td>\n",
       "      <td>1</td>\n",
       "      <td>-1</td>\n",
       "      <td>0</td>\n",
       "      <td>unknown</td>\n",
       "      <td>no</td>\n",
       "    </tr>\n",
       "  </tbody>\n",
       "</table>\n",
       "</div>"
      ],
      "text/plain": [
       "               age_in_years job_description marital_status education_details  \\\n",
       "serial_number                                                                  \n",
       "1                        58      management        married          tertiary   \n",
       "2                        44      technician         single         secondary   \n",
       "3                        33    entrepreneur        married         secondary   \n",
       "4                        47     blue-collar        married           unknown   \n",
       "5                        33         unknown         single           unknown   \n",
       "\n",
       "              has_default  balance_in_account housing_status previous_loan  \\\n",
       "serial_number                                                                \n",
       "1                      no                2143            yes            no   \n",
       "2                      no                  29            yes            no   \n",
       "3                      no                   2            yes           yes   \n",
       "4                      no                1506            yes            no   \n",
       "5                      no                   1             no            no   \n",
       "\n",
       "              phone_type  date month_of_year  call_duration  \\\n",
       "serial_number                                                 \n",
       "1                unknown     5           may            261   \n",
       "2                unknown     5           may            151   \n",
       "3                unknown     5           may             76   \n",
       "4                unknown     5           may             92   \n",
       "5                unknown     5           may            198   \n",
       "\n",
       "               campaign_contacts  days_passed  previous_contact  \\\n",
       "serial_number                                                     \n",
       "1                              1           -1                 0   \n",
       "2                              1           -1                 0   \n",
       "3                              1           -1                 0   \n",
       "4                              1           -1                 0   \n",
       "5                              1           -1                 0   \n",
       "\n",
       "              poutcome_of_campaign outcome  \n",
       "serial_number                               \n",
       "1                          unknown      no  \n",
       "2                          unknown      no  \n",
       "3                          unknown      no  \n",
       "4                          unknown      no  \n",
       "5                          unknown      no  "
      ]
     },
     "execution_count": 3,
     "metadata": {},
     "output_type": "execute_result"
    }
   ],
   "source": [
    "data.head()"
   ]
  },
  {
   "cell_type": "code",
   "execution_count": 4,
   "metadata": {},
   "outputs": [
    {
     "data": {
      "text/plain": [
       "no     30388\n",
       "yes     1840\n",
       "Name: outcome, dtype: int64"
      ]
     },
     "execution_count": 4,
     "metadata": {},
     "output_type": "execute_result"
    }
   ],
   "source": [
    "data.outcome.value_counts()"
   ]
  },
  {
   "cell_type": "code",
   "execution_count": 4,
   "metadata": {},
   "outputs": [
    {
     "data": {
      "text/plain": [
       "(32228, 51)"
      ]
     },
     "execution_count": 4,
     "metadata": {},
     "output_type": "execute_result"
    }
   ],
   "source": [
    "data_dummies=pd.get_dummies(data.drop('outcome',axis=1))\n",
    "data_dummies.shape"
   ]
  },
  {
   "cell_type": "code",
   "execution_count": 5,
   "metadata": {},
   "outputs": [
    {
     "data": {
      "text/plain": [
       "(32228, 52)"
      ]
     },
     "execution_count": 5,
     "metadata": {},
     "output_type": "execute_result"
    }
   ],
   "source": [
    "data_train=pd.DataFrame(data_dummies)\n",
    "data_train['outcome']=data['outcome']\n",
    "data_train.shape"
   ]
  },
  {
   "cell_type": "code",
   "execution_count": null,
   "metadata": {},
   "outputs": [],
   "source": [
    "# data_train.dtypes\n",
    "# print(data_train.columns)\n",
    "# #1,2,3,8,10,15\n",
    "# print('this columns have more than 2 values ',list(['job_description','marital_status','education_details',\n",
    "#                                                   'phone_type','month_of_year','poutcome_of_campaign'])) # to get the columns of the categorical variables"
   ]
  },
  {
   "cell_type": "code",
   "execution_count": null,
   "metadata": {},
   "outputs": [],
   "source": [
    "# columns=['job_description','marital_status','education_details','has_default','housing_status','previous_loan',\n",
    "#          'phone_type','month_of_year','poutcome_of_campaign']\n",
    "# for column in columns:\n",
    "#     data_train[column]=data_train[column].astype('category')\n",
    "# data_train.dtypes"
   ]
  },
  {
   "cell_type": "markdown",
   "metadata": {},
   "source": [
    "### 3. Apply label encoder"
   ]
  },
  {
   "cell_type": "code",
   "execution_count": null,
   "metadata": {},
   "outputs": [],
   "source": [
    "# columns=['job_description','marital_status','education_details','has_default','housing_status','previous_loan',\n",
    "#          'phone_type','month_of_year','poutcome_of_campaign']\n",
    "# le=LabelEncoder()\n",
    "# for column in columns:\n",
    "#     data_train[column]=le.fit_transform(data_train[column])\n",
    "# data_train.head()"
   ]
  },
  {
   "cell_type": "code",
   "execution_count": 7,
   "metadata": {},
   "outputs": [
    {
     "data": {
      "text/plain": [
       "age_in_years                      int64\n",
       "balance_in_account                int64\n",
       "date                              int64\n",
       "call_duration                     int64\n",
       "campaign_contacts                 int64\n",
       "days_passed                       int64\n",
       "previous_contact                  int64\n",
       "job_description_admin.            uint8\n",
       "job_description_blue-collar       uint8\n",
       "job_description_entrepreneur      uint8\n",
       "job_description_housemaid         uint8\n",
       "job_description_management        uint8\n",
       "job_description_retired           uint8\n",
       "job_description_self-employed     uint8\n",
       "job_description_services          uint8\n",
       "job_description_student           uint8\n",
       "job_description_technician        uint8\n",
       "job_description_unemployed        uint8\n",
       "job_description_unknown           uint8\n",
       "marital_status_divorced           uint8\n",
       "marital_status_married            uint8\n",
       "marital_status_single             uint8\n",
       "education_details_primary         uint8\n",
       "education_details_secondary       uint8\n",
       "education_details_tertiary        uint8\n",
       "education_details_unknown         uint8\n",
       "has_default_no                    uint8\n",
       "has_default_yes                   uint8\n",
       "housing_status_no                 uint8\n",
       "housing_status_yes                uint8\n",
       "previous_loan_no                  uint8\n",
       "previous_loan_yes                 uint8\n",
       "phone_type_cellular               uint8\n",
       "phone_type_telephone              uint8\n",
       "phone_type_unknown                uint8\n",
       "month_of_year_apr                 uint8\n",
       "month_of_year_aug                 uint8\n",
       "month_of_year_dec                 uint8\n",
       "month_of_year_feb                 uint8\n",
       "month_of_year_jan                 uint8\n",
       "month_of_year_jul                 uint8\n",
       "month_of_year_jun                 uint8\n",
       "month_of_year_mar                 uint8\n",
       "month_of_year_may                 uint8\n",
       "month_of_year_nov                 uint8\n",
       "month_of_year_oct                 uint8\n",
       "month_of_year_sep                 uint8\n",
       "poutcome_of_campaign_failure      uint8\n",
       "poutcome_of_campaign_other        uint8\n",
       "poutcome_of_campaign_success      uint8\n",
       "poutcome_of_campaign_unknown      uint8\n",
       "outcome                          object\n",
       "dtype: object"
      ]
     },
     "execution_count": 7,
     "metadata": {},
     "output_type": "execute_result"
    }
   ],
   "source": [
    "data_train.dtypes"
   ]
  },
  {
   "cell_type": "markdown",
   "metadata": {},
   "source": [
    "### 4. Split the train data into test and validate"
   ]
  },
  {
   "cell_type": "code",
   "execution_count": 6,
   "metadata": {},
   "outputs": [],
   "source": [
    "X=data_train.drop('outcome',axis=1)\n",
    "Y=data_train['outcome']\n",
    "train_x,validate_x,train_y,validate_y=train_test_split(X,Y,test_size=0.3,random_state=100)"
   ]
  },
  {
   "cell_type": "code",
   "execution_count": 7,
   "metadata": {},
   "outputs": [
    {
     "data": {
      "text/html": [
       "<div>\n",
       "<style scoped>\n",
       "    .dataframe tbody tr th:only-of-type {\n",
       "        vertical-align: middle;\n",
       "    }\n",
       "\n",
       "    .dataframe tbody tr th {\n",
       "        vertical-align: top;\n",
       "    }\n",
       "\n",
       "    .dataframe thead th {\n",
       "        text-align: right;\n",
       "    }\n",
       "</style>\n",
       "<table border=\"1\" class=\"dataframe\">\n",
       "  <thead>\n",
       "    <tr style=\"text-align: right;\">\n",
       "      <th></th>\n",
       "      <th>age_in_years</th>\n",
       "      <th>balance_in_account</th>\n",
       "      <th>date</th>\n",
       "      <th>call_duration</th>\n",
       "      <th>campaign_contacts</th>\n",
       "      <th>days_passed</th>\n",
       "      <th>previous_contact</th>\n",
       "      <th>job_description_admin.</th>\n",
       "      <th>job_description_blue-collar</th>\n",
       "      <th>job_description_entrepreneur</th>\n",
       "      <th>...</th>\n",
       "      <th>month_of_year_jun</th>\n",
       "      <th>month_of_year_mar</th>\n",
       "      <th>month_of_year_may</th>\n",
       "      <th>month_of_year_nov</th>\n",
       "      <th>month_of_year_oct</th>\n",
       "      <th>month_of_year_sep</th>\n",
       "      <th>poutcome_of_campaign_failure</th>\n",
       "      <th>poutcome_of_campaign_other</th>\n",
       "      <th>poutcome_of_campaign_success</th>\n",
       "      <th>poutcome_of_campaign_unknown</th>\n",
       "    </tr>\n",
       "    <tr>\n",
       "      <th>serial_number</th>\n",
       "      <th></th>\n",
       "      <th></th>\n",
       "      <th></th>\n",
       "      <th></th>\n",
       "      <th></th>\n",
       "      <th></th>\n",
       "      <th></th>\n",
       "      <th></th>\n",
       "      <th></th>\n",
       "      <th></th>\n",
       "      <th></th>\n",
       "      <th></th>\n",
       "      <th></th>\n",
       "      <th></th>\n",
       "      <th></th>\n",
       "      <th></th>\n",
       "      <th></th>\n",
       "      <th></th>\n",
       "      <th></th>\n",
       "      <th></th>\n",
       "      <th></th>\n",
       "    </tr>\n",
       "  </thead>\n",
       "  <tbody>\n",
       "    <tr>\n",
       "      <th>12739</th>\n",
       "      <td>45</td>\n",
       "      <td>1805</td>\n",
       "      <td>7</td>\n",
       "      <td>758</td>\n",
       "      <td>1</td>\n",
       "      <td>-1</td>\n",
       "      <td>0</td>\n",
       "      <td>0</td>\n",
       "      <td>1</td>\n",
       "      <td>0</td>\n",
       "      <td>...</td>\n",
       "      <td>0</td>\n",
       "      <td>0</td>\n",
       "      <td>0</td>\n",
       "      <td>0</td>\n",
       "      <td>0</td>\n",
       "      <td>0</td>\n",
       "      <td>0</td>\n",
       "      <td>0</td>\n",
       "      <td>0</td>\n",
       "      <td>1</td>\n",
       "    </tr>\n",
       "    <tr>\n",
       "      <th>24195</th>\n",
       "      <td>41</td>\n",
       "      <td>7028</td>\n",
       "      <td>17</td>\n",
       "      <td>98</td>\n",
       "      <td>1</td>\n",
       "      <td>-1</td>\n",
       "      <td>0</td>\n",
       "      <td>0</td>\n",
       "      <td>0</td>\n",
       "      <td>0</td>\n",
       "      <td>...</td>\n",
       "      <td>0</td>\n",
       "      <td>0</td>\n",
       "      <td>0</td>\n",
       "      <td>1</td>\n",
       "      <td>0</td>\n",
       "      <td>0</td>\n",
       "      <td>0</td>\n",
       "      <td>0</td>\n",
       "      <td>0</td>\n",
       "      <td>1</td>\n",
       "    </tr>\n",
       "    <tr>\n",
       "      <th>3951</th>\n",
       "      <td>40</td>\n",
       "      <td>192</td>\n",
       "      <td>16</td>\n",
       "      <td>71</td>\n",
       "      <td>11</td>\n",
       "      <td>-1</td>\n",
       "      <td>0</td>\n",
       "      <td>0</td>\n",
       "      <td>0</td>\n",
       "      <td>0</td>\n",
       "      <td>...</td>\n",
       "      <td>0</td>\n",
       "      <td>0</td>\n",
       "      <td>1</td>\n",
       "      <td>0</td>\n",
       "      <td>0</td>\n",
       "      <td>0</td>\n",
       "      <td>0</td>\n",
       "      <td>0</td>\n",
       "      <td>0</td>\n",
       "      <td>1</td>\n",
       "    </tr>\n",
       "    <tr>\n",
       "      <th>1771</th>\n",
       "      <td>28</td>\n",
       "      <td>229</td>\n",
       "      <td>9</td>\n",
       "      <td>322</td>\n",
       "      <td>1</td>\n",
       "      <td>-1</td>\n",
       "      <td>0</td>\n",
       "      <td>0</td>\n",
       "      <td>0</td>\n",
       "      <td>0</td>\n",
       "      <td>...</td>\n",
       "      <td>0</td>\n",
       "      <td>0</td>\n",
       "      <td>1</td>\n",
       "      <td>0</td>\n",
       "      <td>0</td>\n",
       "      <td>0</td>\n",
       "      <td>0</td>\n",
       "      <td>0</td>\n",
       "      <td>0</td>\n",
       "      <td>1</td>\n",
       "    </tr>\n",
       "    <tr>\n",
       "      <th>27279</th>\n",
       "      <td>33</td>\n",
       "      <td>1817</td>\n",
       "      <td>21</td>\n",
       "      <td>55</td>\n",
       "      <td>1</td>\n",
       "      <td>-1</td>\n",
       "      <td>0</td>\n",
       "      <td>0</td>\n",
       "      <td>0</td>\n",
       "      <td>0</td>\n",
       "      <td>...</td>\n",
       "      <td>0</td>\n",
       "      <td>0</td>\n",
       "      <td>0</td>\n",
       "      <td>1</td>\n",
       "      <td>0</td>\n",
       "      <td>0</td>\n",
       "      <td>0</td>\n",
       "      <td>0</td>\n",
       "      <td>0</td>\n",
       "      <td>1</td>\n",
       "    </tr>\n",
       "  </tbody>\n",
       "</table>\n",
       "<p>5 rows × 51 columns</p>\n",
       "</div>"
      ],
      "text/plain": [
       "               age_in_years  balance_in_account  date  call_duration  \\\n",
       "serial_number                                                          \n",
       "12739                    45                1805     7            758   \n",
       "24195                    41                7028    17             98   \n",
       "3951                     40                 192    16             71   \n",
       "1771                     28                 229     9            322   \n",
       "27279                    33                1817    21             55   \n",
       "\n",
       "               campaign_contacts  days_passed  previous_contact  \\\n",
       "serial_number                                                     \n",
       "12739                          1           -1                 0   \n",
       "24195                          1           -1                 0   \n",
       "3951                          11           -1                 0   \n",
       "1771                           1           -1                 0   \n",
       "27279                          1           -1                 0   \n",
       "\n",
       "               job_description_admin.  job_description_blue-collar  \\\n",
       "serial_number                                                        \n",
       "12739                               0                            1   \n",
       "24195                               0                            0   \n",
       "3951                                0                            0   \n",
       "1771                                0                            0   \n",
       "27279                               0                            0   \n",
       "\n",
       "               job_description_entrepreneur              ...               \\\n",
       "serial_number                                            ...                \n",
       "12739                                     0              ...                \n",
       "24195                                     0              ...                \n",
       "3951                                      0              ...                \n",
       "1771                                      0              ...                \n",
       "27279                                     0              ...                \n",
       "\n",
       "               month_of_year_jun  month_of_year_mar  month_of_year_may  \\\n",
       "serial_number                                                            \n",
       "12739                          0                  0                  0   \n",
       "24195                          0                  0                  0   \n",
       "3951                           0                  0                  1   \n",
       "1771                           0                  0                  1   \n",
       "27279                          0                  0                  0   \n",
       "\n",
       "               month_of_year_nov  month_of_year_oct  month_of_year_sep  \\\n",
       "serial_number                                                            \n",
       "12739                          0                  0                  0   \n",
       "24195                          1                  0                  0   \n",
       "3951                           0                  0                  0   \n",
       "1771                           0                  0                  0   \n",
       "27279                          1                  0                  0   \n",
       "\n",
       "               poutcome_of_campaign_failure  poutcome_of_campaign_other  \\\n",
       "serial_number                                                             \n",
       "12739                                     0                           0   \n",
       "24195                                     0                           0   \n",
       "3951                                      0                           0   \n",
       "1771                                      0                           0   \n",
       "27279                                     0                           0   \n",
       "\n",
       "               poutcome_of_campaign_success  poutcome_of_campaign_unknown  \n",
       "serial_number                                                              \n",
       "12739                                     0                             1  \n",
       "24195                                     0                             1  \n",
       "3951                                      0                             1  \n",
       "1771                                      0                             1  \n",
       "27279                                     0                             1  \n",
       "\n",
       "[5 rows x 51 columns]"
      ]
     },
     "execution_count": 7,
     "metadata": {},
     "output_type": "execute_result"
    }
   ],
   "source": [
    "train_x.head()"
   ]
  },
  {
   "cell_type": "markdown",
   "metadata": {},
   "source": [
    "### 5.Applying one hot encoder"
   ]
  },
  {
   "cell_type": "code",
   "execution_count": null,
   "metadata": {},
   "outputs": [],
   "source": [
    "# import warnings\n",
    "# warnings.filterwarnings('ignore')\n",
    "# hot=OneHotEncoder(categorical_features=[6,9,10,11,12,13])\n",
    "# train_x=hot.fit_transform(train_x)\n",
    "# validate_x=hot.fit_transform(validate_x)"
   ]
  },
  {
   "cell_type": "code",
   "execution_count": 10,
   "metadata": {},
   "outputs": [
    {
     "data": {
      "text/plain": [
       "(22559, 51)"
      ]
     },
     "execution_count": 10,
     "metadata": {},
     "output_type": "execute_result"
    }
   ],
   "source": [
    "train_x.shape"
   ]
  },
  {
   "cell_type": "code",
   "execution_count": 11,
   "metadata": {},
   "outputs": [
    {
     "data": {
      "text/plain": [
       "(9669, 51)"
      ]
     },
     "execution_count": 11,
     "metadata": {},
     "output_type": "execute_result"
    }
   ],
   "source": [
    "validate_x.shape"
   ]
  },
  {
   "cell_type": "markdown",
   "metadata": {},
   "source": [
    "### 6.Creating a function which print accuracy of different models"
   ]
  },
  {
   "cell_type": "code",
   "execution_count": 8,
   "metadata": {},
   "outputs": [],
   "source": [
    "def get_accuracy(model,x1=train_x,y1=train_y,x2=validate_x,y2=validate_y):\n",
    "    import warnings\n",
    "    warnings.filterwarnings('ignore')\n",
    "    model_name=model\n",
    "    model=model()\n",
    "    model.fit(x1,y1)\n",
    "    pred=model.predict(x2)\n",
    "    acc=accuracy_score(pred,y2)\n",
    "    print('accuracy for ',model_name,' is: ',acc)"
   ]
  },
  {
   "cell_type": "code",
   "execution_count": 9,
   "metadata": {},
   "outputs": [
    {
     "name": "stdout",
     "output_type": "stream",
     "text": [
      "accuracy for  <class 'sklearn.tree.tree.DecisionTreeClassifier'>  is:  0.9289481849208812\n",
      "accuracy for  <class 'sklearn.ensemble.forest.RandomForestClassifier'>  is:  0.9445651049746613\n",
      "accuracy for  <class 'sklearn.ensemble.weight_boosting.AdaBoostClassifier'>  is:  0.9428069086772158\n",
      "accuracy for  <class 'sklearn.neighbors.classification.KNeighborsClassifier'>  is:  0.9403247491984693\n",
      "accuracy for  <class 'xgboost.sklearn.XGBClassifier'>  is:  0.9500465404902265\n"
     ]
    }
   ],
   "source": [
    "get_accuracy(DecisionTreeClassifier)\n",
    "get_accuracy(RandomForestClassifier)\n",
    "get_accuracy(AdaBoostClassifier)\n",
    "get_accuracy(KNeighborsClassifier)\n",
    "get_accuracy(XGBClassifier)"
   ]
  },
  {
   "cell_type": "code",
   "execution_count": 14,
   "metadata": {},
   "outputs": [
    {
     "data": {
      "text/plain": [
       "(32228, 52)"
      ]
     },
     "execution_count": 14,
     "metadata": {},
     "output_type": "execute_result"
    }
   ],
   "source": [
    "data_train.shape"
   ]
  },
  {
   "cell_type": "code",
   "execution_count": 10,
   "metadata": {},
   "outputs": [],
   "source": [
    "train_x=data_train.drop('outcome',axis=1)\n",
    "train_y=data_train['outcome']"
   ]
  },
  {
   "cell_type": "code",
   "execution_count": 20,
   "metadata": {},
   "outputs": [],
   "source": [
    "param_grid={'learning_rate':[0.04,0.05,0.06,0.07],\n",
    "            'n_estimators':[300,400,500],\n",
    "            'max_depth':[2,3,4],\n",
    "            'min_child_weight':[2,3,4]\n",
    "           }"
   ]
  },
  {
   "cell_type": "code",
   "execution_count": 21,
   "metadata": {},
   "outputs": [
    {
     "name": "stdout",
     "output_type": "stream",
     "text": [
      "for xgboost  {'learning_rate': 0.04, 'max_depth': 2, 'min_child_weight': 2, 'n_estimators': 300}\n"
     ]
    }
   ],
   "source": [
    "model_xg=XGBClassifier(n_jobs=4)\n",
    "gscv=GridSearchCV(estimator=model_xg,param_grid=param_grid,cv=3,scoring='roc_auc')\n",
    "gscv.fit(train_x,train_y)\n",
    "print('for xgboost ',gscv.best_params_)"
   ]
  },
  {
   "cell_type": "markdown",
   "metadata": {},
   "source": [
    "#### Applying the above models we can see that the best accuracy is obtained by Random Forest"
   ]
  },
  {
   "cell_type": "markdown",
   "metadata": {},
   "source": [
    "## Working on the Test Data"
   ]
  },
  {
   "cell_type": "code",
   "execution_count": 22,
   "metadata": {},
   "outputs": [
    {
     "data": {
      "text/html": [
       "<div>\n",
       "<style scoped>\n",
       "    .dataframe tbody tr th:only-of-type {\n",
       "        vertical-align: middle;\n",
       "    }\n",
       "\n",
       "    .dataframe tbody tr th {\n",
       "        vertical-align: top;\n",
       "    }\n",
       "\n",
       "    .dataframe thead th {\n",
       "        text-align: right;\n",
       "    }\n",
       "</style>\n",
       "<table border=\"1\" class=\"dataframe\">\n",
       "  <thead>\n",
       "    <tr style=\"text-align: right;\">\n",
       "      <th></th>\n",
       "      <th>age_in_years</th>\n",
       "      <th>job_description</th>\n",
       "      <th>marital_status</th>\n",
       "      <th>education_details</th>\n",
       "      <th>has_default</th>\n",
       "      <th>balance_in_account</th>\n",
       "      <th>housing_status</th>\n",
       "      <th>previous_loan</th>\n",
       "      <th>phone_type</th>\n",
       "      <th>date</th>\n",
       "      <th>month_of_year</th>\n",
       "      <th>call_duration</th>\n",
       "      <th>campaign_contacts</th>\n",
       "      <th>days_passed</th>\n",
       "      <th>previous_contact</th>\n",
       "      <th>poutcome_of_campaign</th>\n",
       "    </tr>\n",
       "    <tr>\n",
       "      <th>serial_number</th>\n",
       "      <th></th>\n",
       "      <th></th>\n",
       "      <th></th>\n",
       "      <th></th>\n",
       "      <th></th>\n",
       "      <th></th>\n",
       "      <th></th>\n",
       "      <th></th>\n",
       "      <th></th>\n",
       "      <th></th>\n",
       "      <th></th>\n",
       "      <th></th>\n",
       "      <th></th>\n",
       "      <th></th>\n",
       "      <th></th>\n",
       "      <th></th>\n",
       "    </tr>\n",
       "  </thead>\n",
       "  <tbody>\n",
       "    <tr>\n",
       "      <th>1</th>\n",
       "      <td>33</td>\n",
       "      <td>admin.</td>\n",
       "      <td>married</td>\n",
       "      <td>secondary</td>\n",
       "      <td>no</td>\n",
       "      <td>796</td>\n",
       "      <td>yes</td>\n",
       "      <td>no</td>\n",
       "      <td>telephone</td>\n",
       "      <td>6</td>\n",
       "      <td>apr</td>\n",
       "      <td>216</td>\n",
       "      <td>1</td>\n",
       "      <td>-1</td>\n",
       "      <td>0</td>\n",
       "      <td>unknown</td>\n",
       "    </tr>\n",
       "    <tr>\n",
       "      <th>2</th>\n",
       "      <td>40</td>\n",
       "      <td>management</td>\n",
       "      <td>married</td>\n",
       "      <td>secondary</td>\n",
       "      <td>no</td>\n",
       "      <td>754</td>\n",
       "      <td>no</td>\n",
       "      <td>yes</td>\n",
       "      <td>cellular</td>\n",
       "      <td>6</td>\n",
       "      <td>apr</td>\n",
       "      <td>635</td>\n",
       "      <td>1</td>\n",
       "      <td>-1</td>\n",
       "      <td>0</td>\n",
       "      <td>unknown</td>\n",
       "    </tr>\n",
       "    <tr>\n",
       "      <th>3</th>\n",
       "      <td>30</td>\n",
       "      <td>technician</td>\n",
       "      <td>single</td>\n",
       "      <td>secondary</td>\n",
       "      <td>no</td>\n",
       "      <td>10152</td>\n",
       "      <td>yes</td>\n",
       "      <td>no</td>\n",
       "      <td>cellular</td>\n",
       "      <td>6</td>\n",
       "      <td>apr</td>\n",
       "      <td>1108</td>\n",
       "      <td>2</td>\n",
       "      <td>270</td>\n",
       "      <td>1</td>\n",
       "      <td>failure</td>\n",
       "    </tr>\n",
       "    <tr>\n",
       "      <th>4</th>\n",
       "      <td>44</td>\n",
       "      <td>blue-collar</td>\n",
       "      <td>married</td>\n",
       "      <td>secondary</td>\n",
       "      <td>no</td>\n",
       "      <td>545</td>\n",
       "      <td>yes</td>\n",
       "      <td>no</td>\n",
       "      <td>cellular</td>\n",
       "      <td>6</td>\n",
       "      <td>apr</td>\n",
       "      <td>122</td>\n",
       "      <td>3</td>\n",
       "      <td>136</td>\n",
       "      <td>1</td>\n",
       "      <td>failure</td>\n",
       "    </tr>\n",
       "    <tr>\n",
       "      <th>5</th>\n",
       "      <td>35</td>\n",
       "      <td>technician</td>\n",
       "      <td>married</td>\n",
       "      <td>secondary</td>\n",
       "      <td>no</td>\n",
       "      <td>5553</td>\n",
       "      <td>yes</td>\n",
       "      <td>no</td>\n",
       "      <td>cellular</td>\n",
       "      <td>6</td>\n",
       "      <td>apr</td>\n",
       "      <td>371</td>\n",
       "      <td>3</td>\n",
       "      <td>136</td>\n",
       "      <td>7</td>\n",
       "      <td>failure</td>\n",
       "    </tr>\n",
       "  </tbody>\n",
       "</table>\n",
       "</div>"
      ],
      "text/plain": [
       "               age_in_years job_description marital_status education_details  \\\n",
       "serial_number                                                                  \n",
       "1                        33          admin.        married         secondary   \n",
       "2                        40      management        married         secondary   \n",
       "3                        30      technician         single         secondary   \n",
       "4                        44     blue-collar        married         secondary   \n",
       "5                        35      technician        married         secondary   \n",
       "\n",
       "              has_default  balance_in_account housing_status previous_loan  \\\n",
       "serial_number                                                                \n",
       "1                      no                 796            yes            no   \n",
       "2                      no                 754             no           yes   \n",
       "3                      no               10152            yes            no   \n",
       "4                      no                 545            yes            no   \n",
       "5                      no                5553            yes            no   \n",
       "\n",
       "              phone_type  date month_of_year  call_duration  \\\n",
       "serial_number                                                 \n",
       "1              telephone     6           apr            216   \n",
       "2               cellular     6           apr            635   \n",
       "3               cellular     6           apr           1108   \n",
       "4               cellular     6           apr            122   \n",
       "5               cellular     6           apr            371   \n",
       "\n",
       "               campaign_contacts  days_passed  previous_contact  \\\n",
       "serial_number                                                     \n",
       "1                              1           -1                 0   \n",
       "2                              1           -1                 0   \n",
       "3                              2          270                 1   \n",
       "4                              3          136                 1   \n",
       "5                              3          136                 7   \n",
       "\n",
       "              poutcome_of_campaign  \n",
       "serial_number                       \n",
       "1                          unknown  \n",
       "2                          unknown  \n",
       "3                          failure  \n",
       "4                          failure  \n",
       "5                          failure  "
      ]
     },
     "execution_count": 22,
     "metadata": {},
     "output_type": "execute_result"
    }
   ],
   "source": [
    "data_test=pd.read_csv('C:/Users/Administrator/Desktop/Datathon_2/Yes_Bank_Test.csv').set_index('serial_number')\n",
    "# data_to_train=data_test.query('month_of_year==\"sep\"')\n",
    "data_test.head()"
   ]
  },
  {
   "cell_type": "code",
   "execution_count": 23,
   "metadata": {},
   "outputs": [
    {
     "data": {
      "text/plain": [
       "(13562, 51)"
      ]
     },
     "execution_count": 23,
     "metadata": {},
     "output_type": "execute_result"
    }
   ],
   "source": [
    "data_test=pd.get_dummies(data_test)\n",
    "data_test.shape"
   ]
  },
  {
   "cell_type": "markdown",
   "metadata": {},
   "source": [
    "#### since the training data has one less feature present in the month of year column which is 'sep' the sep data need to be fed into the training model so that the results can be precise"
   ]
  },
  {
   "cell_type": "code",
   "execution_count": null,
   "metadata": {},
   "outputs": [],
   "source": [
    "# columns=['job_description','marital_status','education_details','has_default','housing_status','previous_loan',\n",
    "#          'phone_type','month_of_year','poutcome_of_campaign']\n",
    "# le=LabelEncoder()\n",
    "# for column in columns:\n",
    "#     data_test[column]=le.fit_transform(data_test[column])\n",
    "# data_test.head()"
   ]
  },
  {
   "cell_type": "code",
   "execution_count": null,
   "metadata": {},
   "outputs": [],
   "source": [
    "# print(data_test.columns)\n",
    "# print(data_train.month_of_year.unique())\n",
    "# data_test.month_of_year.unique()"
   ]
  },
  {
   "cell_type": "code",
   "execution_count": null,
   "metadata": {},
   "outputs": [],
   "source": [
    "# import warnings\n",
    "# warnings.filterwarnings('ignore')\n",
    "# hot=OneHotEncoder(categorical_features=[1,2,3,8,10,15])\n",
    "# data_test=hot.fit_transform(data_test).toarray()"
   ]
  },
  {
   "cell_type": "markdown",
   "metadata": {},
   "source": [
    "## Testing on TestDataset"
   ]
  },
  {
   "cell_type": "code",
   "execution_count": 51,
   "metadata": {},
   "outputs": [],
   "source": [
    "model_xg=XGBClassifier(learning_rate=0.05,max_depth=2,n_estimators=1000,min_child_weight=2,nthread=4,gamma=0.001)\n",
    "model_xg.fit(train_x,train_y)\n",
    "pred=model_xg.predict(data_test)\n",
    "results=pd.DataFrame({'serial_number':data_test.index,'outcome':pred})"
   ]
  },
  {
   "cell_type": "code",
   "execution_count": 52,
   "metadata": {},
   "outputs": [
    {
     "data": {
      "text/html": [
       "<div>\n",
       "<style scoped>\n",
       "    .dataframe tbody tr th:only-of-type {\n",
       "        vertical-align: middle;\n",
       "    }\n",
       "\n",
       "    .dataframe tbody tr th {\n",
       "        vertical-align: top;\n",
       "    }\n",
       "\n",
       "    .dataframe thead th {\n",
       "        text-align: right;\n",
       "    }\n",
       "</style>\n",
       "<table border=\"1\" class=\"dataframe\">\n",
       "  <thead>\n",
       "    <tr style=\"text-align: right;\">\n",
       "      <th></th>\n",
       "      <th>serial_number</th>\n",
       "      <th>outcome</th>\n",
       "    </tr>\n",
       "  </thead>\n",
       "  <tbody>\n",
       "    <tr>\n",
       "      <th>0</th>\n",
       "      <td>1</td>\n",
       "      <td>no</td>\n",
       "    </tr>\n",
       "    <tr>\n",
       "      <th>1</th>\n",
       "      <td>2</td>\n",
       "      <td>no</td>\n",
       "    </tr>\n",
       "    <tr>\n",
       "      <th>2</th>\n",
       "      <td>3</td>\n",
       "      <td>no</td>\n",
       "    </tr>\n",
       "    <tr>\n",
       "      <th>3</th>\n",
       "      <td>4</td>\n",
       "      <td>no</td>\n",
       "    </tr>\n",
       "    <tr>\n",
       "      <th>4</th>\n",
       "      <td>5</td>\n",
       "      <td>no</td>\n",
       "    </tr>\n",
       "  </tbody>\n",
       "</table>\n",
       "</div>"
      ],
      "text/plain": [
       "   serial_number outcome\n",
       "0              1      no\n",
       "1              2      no\n",
       "2              3      no\n",
       "3              4      no\n",
       "4              5      no"
      ]
     },
     "execution_count": 52,
     "metadata": {},
     "output_type": "execute_result"
    }
   ],
   "source": [
    "results.head()"
   ]
  },
  {
   "cell_type": "code",
   "execution_count": 53,
   "metadata": {},
   "outputs": [],
   "source": [
    "results.to_csv('task1.csv',index=False)"
   ]
  },
  {
   "cell_type": "code",
   "execution_count": null,
   "metadata": {},
   "outputs": [],
   "source": []
  },
  {
   "cell_type": "code",
   "execution_count": null,
   "metadata": {},
   "outputs": [],
   "source": []
  },
  {
   "cell_type": "code",
   "execution_count": null,
   "metadata": {},
   "outputs": [],
   "source": []
  },
  {
   "cell_type": "code",
   "execution_count": null,
   "metadata": {},
   "outputs": [],
   "source": []
  },
  {
   "cell_type": "code",
   "execution_count": null,
   "metadata": {},
   "outputs": [],
   "source": []
  },
  {
   "cell_type": "code",
   "execution_count": null,
   "metadata": {},
   "outputs": [],
   "source": []
  },
  {
   "cell_type": "code",
   "execution_count": null,
   "metadata": {},
   "outputs": [],
   "source": []
  },
  {
   "cell_type": "code",
   "execution_count": null,
   "metadata": {},
   "outputs": [],
   "source": []
  },
  {
   "cell_type": "code",
   "execution_count": null,
   "metadata": {},
   "outputs": [],
   "source": []
  },
  {
   "cell_type": "code",
   "execution_count": null,
   "metadata": {},
   "outputs": [],
   "source": []
  },
  {
   "cell_type": "code",
   "execution_count": null,
   "metadata": {},
   "outputs": [],
   "source": []
  },
  {
   "cell_type": "code",
   "execution_count": null,
   "metadata": {},
   "outputs": [],
   "source": []
  },
  {
   "cell_type": "code",
   "execution_count": null,
   "metadata": {},
   "outputs": [],
   "source": []
  },
  {
   "cell_type": "code",
   "execution_count": null,
   "metadata": {},
   "outputs": [],
   "source": []
  },
  {
   "cell_type": "code",
   "execution_count": null,
   "metadata": {},
   "outputs": [],
   "source": []
  },
  {
   "cell_type": "code",
   "execution_count": null,
   "metadata": {},
   "outputs": [],
   "source": []
  },
  {
   "cell_type": "code",
   "execution_count": null,
   "metadata": {},
   "outputs": [],
   "source": []
  },
  {
   "cell_type": "code",
   "execution_count": null,
   "metadata": {},
   "outputs": [],
   "source": []
  },
  {
   "cell_type": "code",
   "execution_count": null,
   "metadata": {},
   "outputs": [],
   "source": []
  }
 ],
 "metadata": {
  "kernelspec": {
   "display_name": "Python 3",
   "language": "python",
   "name": "python3"
  },
  "language_info": {
   "codemirror_mode": {
    "name": "ipython",
    "version": 3
   },
   "file_extension": ".py",
   "mimetype": "text/x-python",
   "name": "python",
   "nbconvert_exporter": "python",
   "pygments_lexer": "ipython3",
   "version": "3.7.1"
  }
 },
 "nbformat": 4,
 "nbformat_minor": 2
}
